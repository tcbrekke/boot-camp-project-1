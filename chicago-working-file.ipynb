{
 "cells": [
  {
   "cell_type": "code",
   "execution_count": 1,
   "metadata": {},
   "outputs": [],
   "source": [
    "import os\n",
    "import pandas as pd\n",
    "import numpy as np"
   ]
  },
  {
   "cell_type": "code",
   "execution_count": 2,
   "metadata": {},
   "outputs": [],
   "source": [
    "chi_csv = os.path.join(\"resources\", \"chi-data.csv\")\n",
    "chi_df = pd.read_csv(chi_csv)"
   ]
  },
  {
   "cell_type": "code",
   "execution_count": 5,
   "metadata": {},
   "outputs": [
    {
     "data": {
      "text/plain": [
       "['id',\n",
       " 'Case Number',\n",
       " 'Date',\n",
       " 'Block',\n",
       " 'IUCR',\n",
       " 'Primary Type',\n",
       " 'Description',\n",
       " 'Location Description',\n",
       " 'Arrest',\n",
       " 'Domestic',\n",
       " 'Beat',\n",
       " 'District',\n",
       " 'Ward',\n",
       " 'Community Area',\n",
       " 'FBI Code',\n",
       " 'X Coordinate',\n",
       " 'Y Coordinate',\n",
       " 'Year',\n",
       " 'Updated On',\n",
       " 'Latitude',\n",
       " 'Longitude',\n",
       " 'Location']"
      ]
     },
     "execution_count": 5,
     "metadata": {},
     "output_type": "execute_result"
    }
   ],
   "source": [
    "list(chi_df)"
   ]
  },
  {
   "cell_type": "code",
   "execution_count": 12,
   "metadata": {},
   "outputs": [
    {
     "data": {
      "text/plain": [
       "array(['BATTERY', 'OTHER OFFENSE', 'ROBBERY', 'NARCOTICS',\n",
       "       'CRIMINAL DAMAGE', 'WEAPONS VIOLATION', 'THEFT', 'BURGLARY',\n",
       "       'MOTOR VEHICLE THEFT', 'PUBLIC PEACE VIOLATION',\n",
       "       'DECEPTIVE PRACTICE', 'ASSAULT', 'CRIMINAL TRESPASS',\n",
       "       'CRIM SEXUAL ASSAULT', 'INTERFERENCE WITH PUBLIC OFFICER', 'ARSON',\n",
       "       'LIQUOR LAW VIOLATION', 'KIDNAPPING', 'SEX OFFENSE',\n",
       "       'OFFENSE INVOLVING CHILDREN', 'PROSTITUTION', 'HOMICIDE',\n",
       "       'GAMBLING', 'INTIMIDATION', 'STALKING', 'OBSCENITY',\n",
       "       'PUBLIC INDECENCY', 'HUMAN TRAFFICKING',\n",
       "       'CONCEALED CARRY LICENSE VIOLATION', 'OTHER NARCOTIC VIOLATION',\n",
       "       'NON - CRIMINAL', 'NON-CRIMINAL', 'RITUALISM',\n",
       "       'NON-CRIMINAL (SUBJECT SPECIFIED)', 'DOMESTIC VIOLENCE'],\n",
       "      dtype=object)"
      ]
     },
     "execution_count": 12,
     "metadata": {},
     "output_type": "execute_result"
    }
   ],
   "source": [
    "chi_df['Primary Type'].unique()"
   ]
  },
  {
   "cell_type": "code",
   "execution_count": null,
   "metadata": {},
   "outputs": [],
   "source": []
  }
 ],
 "metadata": {
  "kernelspec": {
   "display_name": "Python 3",
   "language": "python",
   "name": "python3"
  },
  "language_info": {
   "codemirror_mode": {
    "name": "ipython",
    "version": 3
   },
   "file_extension": ".py",
   "mimetype": "text/x-python",
   "name": "python",
   "nbconvert_exporter": "python",
   "pygments_lexer": "ipython3",
   "version": "3.6.4"
  }
 },
 "nbformat": 4,
 "nbformat_minor": 2
}
